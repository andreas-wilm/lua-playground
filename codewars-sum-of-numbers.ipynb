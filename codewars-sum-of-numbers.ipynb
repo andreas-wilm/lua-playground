{
 "cells": [
  {
   "cell_type": "markdown",
   "id": "70e3359f-9896-468f-9c84-36c9ed14208d",
   "metadata": {},
   "source": [
    "Given two integers a and b, which can be positive or negative, find the sum of all the integers between and including them and return it. If the two numbers are equal return a or b.\n",
    "\n",
    "Note: a and b are not ordered!"
   ]
  },
  {
   "cell_type": "code",
   "execution_count": 10,
   "id": "0123d81d-68ea-4e91-86db-ae89495f93fb",
   "metadata": {},
   "outputs": [
    {
     "name": "stdout",
     "output_type": "stream",
     "text": [
      "7502 \n"
     ]
    }
   ],
   "source": [
    "function get_sum(a, b)\n",
    "    local s = 0\n",
    "    for i=math.min(a, b), math.max(a, b) do\n",
    "        s = s+i\n",
    "    end\n",
    "    return s\n",
    "end\n",
    "print(get_sum(122, 2))"
   ]
  },
  {
   "cell_type": "code",
   "execution_count": 13,
   "id": "97554b97-d39e-4672-b63c-083e318d71e3",
   "metadata": {},
   "outputs": [],
   "source": [
    "assert(get_sum(1, 0) == 1)\n",
    "assert(get_sum(1, 2) == 3)\n",
    "assert(get_sum(0, 1) == 1)\n",
    "assert(get_sum(1, 1) == 1)\n",
    "assert(get_sum(-1, 0) == -1)\n",
    "assert(get_sum(-1, 2) == 2)\n"
   ]
  },
  {
   "cell_type": "code",
   "execution_count": null,
   "id": "7b8c5e75-afe9-413b-b9f8-d9f3c6676c63",
   "metadata": {},
   "outputs": [],
   "source": []
  }
 ],
 "metadata": {
  "kernelspec": {
   "display_name": "Lua  (XLua)",
   "language": "lua",
   "name": "xlua"
  },
  "language_info": {
   "file_extension": ".lua",
   "mimetype": "text/x-luasrc",
   "name": "lua",
   "version": "14.0.0"
  }
 },
 "nbformat": 4,
 "nbformat_minor": 5
}
