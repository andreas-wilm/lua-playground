{
 "cells": [
  {
   "cell_type": "markdown",
   "id": "95a822ca-5385-4cc4-9be6-7915e74f2ec8",
   "metadata": {},
   "source": [
    "# make"
   ]
  },
  {
   "cell_type": "markdown",
   "id": "451ff00d-c3cb-4abb-ab05-353a0a6027b4",
   "metadata": {},
   "source": [
    "Goal: Implement the very basic Snakemake idea in Lua for the sole purpose of learning Lua\n",
    "\n",
    "The workflow definition is written in Lua itself so we get free linting"
   ]
  },
  {
   "cell_type": "markdown",
   "id": "9a91eca9-bfc4-4661-a23a-2ebde65d16b6",
   "metadata": {},
   "source": [
    "References:\n",
    "\n",
    "- https://www.lua.org/manual/5.4/manual.html"
   ]
  },
  {
   "cell_type": "markdown",
   "id": "99291422-ecee-434f-ae3d-65e468172527",
   "metadata": {},
   "source": [
    "Goals:\n",
    "- be able to execute simple things\n",
    "- support `script` and `shell`\n",
    "- Support pattern matching\n",
    "\n",
    "No\n",
    "- monitoring of resources\n",
    "- parallel execution\n",
    "- reentrancy\n"
   ]
  },
  {
   "cell_type": "markdown",
   "id": "7ab9571b-38c5-40a6-9bb5-0158cc97e606",
   "metadata": {},
   "source": [
    "# helper"
   ]
  },
  {
   "cell_type": "code",
   "execution_count": 1,
   "id": "ea9ea56d-fdab-41e9-9d97-5c5704887b81",
   "metadata": {},
   "outputs": [],
   "source": [
    "function readfile(f)\n",
    "    local fh = assert(io.open(f, \"r\"), \"Error opening file: \" .. f)\n",
    "    local data = fh:read(\"*all\")\n",
    "    fh:close()\n",
    "    return data\n",
    "end"
   ]
  },
  {
   "cell_type": "code",
   "execution_count": 2,
   "id": "34f46cb3-926c-4067-ae61-6ee13043a803",
   "metadata": {},
   "outputs": [
    {
     "name": "stdout",
     "output_type": "stream",
     "text": [
      "\n",
      "workflow{\n",
      "\ttargets = {\"joined_calls.vcf.gz\"}\n",
      "}\n",
      "rule({\n",
      "\tname = \"bwa map\",\n",
      "\tinput = {\n",
      "\t\treffa = config.ref_fa,\n",
      "\t\tfastq = \"fastq/{sample}.fastq.gz\"\n",
      "\t},\n",
      "\toutput = {\n",
      "\t\t\"bam/{sample}.bam\",\n",
      "\t},\n",
      "\tshell = [[\n",
      "\t\ttouch {output[1]}\n",
      "\t]],\n",
      "})\n",
      "\n",
      "rule{\n",
      "\tname = \"samtools index\",\n",
      "\tinput = {\n",
      "\t\t\"bam/{sample}.bam\",\n",
      "\t},\n",
      "\toutput = {\n",
      "\t\t\"bam/{sample}.bam.bai\"\n",
      "\t},\n",
      "\tscript = [[\n",
      "\t\tlocal f1, err1 = io.open(output[1], \"a\")\n",
      "\t]],\n",
      "}\n",
      "\n",
      "rule{\n",
      "\tname = \"joined variant calling\",\n",
      "\tinput = {\n",
      "\t\tbams = expand{\"bam/%s.bam\", config.samples},\n",
      "\t\tbais = expand{\"bam/%s.bam.bai\", config.samples},\n",
      "\t},\n",
      "\toutput = {\n",
      "\t\t\"all.vcf\",\n",
      "\t},\n",
      "\tshell = [[\n",
      "\t\ttouch all.vcf\n",
      "\t]]\n",
      "}\n",
      "\n",
      " \n"
     ]
    }
   ],
   "source": [
    "readfile(\"make.in\")"
   ]
  },
  {
   "cell_type": "markdown",
   "id": "add5a3bb-863c-4a36-a471-25115d67f829",
   "metadata": {},
   "source": [
    "# exec"
   ]
  },
  {
   "cell_type": "code",
   "execution_count": 3,
   "id": "a8e2918d-bee5-4816-a7a6-883a1a253210",
   "metadata": {},
   "outputs": [],
   "source": [
    "--[[\n",
    "    would be nice to use the subprocess library, but that doesn't seem to be compatible\n",
    "    with Lua 5.4 and creates extra funnies on OS X with clang (echo -n). so we are using\n",
    "    temp files instead. redirection is still supported in cmd though\n",
    "--]]\n",
    "function exec(cmd)\n",
    "    local f_o = os.tmpname()\n",
    "    local f_e = os.tmpname()\n",
    "    local cmd = string.format(\"sh -c %q > %q 2> %q\", cmd, f_o, f_e)\n",
    "    local p = io.popen(cmd)\n",
    "    if not p then\n",
    "        return nil, \"Failed to open pipe\"\n",
    "    end\n",
    "    local s = p:close() -- true or nil\n",
    "    local o = readfile(f_o)\n",
    "    local e = readfile(f_e)\n",
    "    os.remove(f_o)\n",
    "    os.remove(f_e)\n",
    "    return s, o, e\n",
    "end"
   ]
  },
  {
   "cell_type": "code",
   "execution_count": 4,
   "id": "4db60289-662e-443c-aa37-bd0895d94089",
   "metadata": {},
   "outputs": [
    {
     "name": "stdout",
     "output_type": "stream",
     "text": [
      "stdout: hello world\n",
      " \n",
      "stderr:  \n",
      "exit status: true \n"
     ]
    }
   ],
   "source": [
    "local s, o, e = exec(\"echo hello world\")\n",
    "print(\"stdout:\", o)\n",
    "print(\"stderr:\", e)\n",
    "print(\"exit status:\", s)"
   ]
  },
  {
   "cell_type": "code",
   "execution_count": 5,
   "id": "5683e573-3e65-45ad-878e-895ce63e1a49",
   "metadata": {},
   "outputs": [
    {
     "name": "stdout",
     "output_type": "stream",
     "text": [
      "stdout:  \n",
      "stderr:  \n",
      "exit status: nil \n"
     ]
    }
   ],
   "source": [
    "local s, o, e = exec(\"false\")\n",
    "print(\"stdout:\", o)\n",
    "print(\"stderr:\", e)\n",
    "print(\"exit status:\", s)"
   ]
  },
  {
   "cell_type": "code",
   "execution_count": 6,
   "id": "51a10bb9-1674-44d0-970e-4604981d39e9",
   "metadata": {},
   "outputs": [
    {
     "name": "stdout",
     "output_type": "stream",
     "text": [
      "stdout:  \n",
      "stderr:  \n",
      "exit status: true \n"
     ]
    }
   ],
   "source": [
    "local s, o, e = exec(\"echo redirection works anyway > /tmp/meh.txt\")\n",
    "print(\"stdout:\", o)\n",
    "print(\"stderr:\", e)\n",
    "print(\"exit status:\", s)"
   ]
  },
  {
   "cell_type": "markdown",
   "id": "4d28ba6b-594e-4276-b976-5a7a5ae9be73",
   "metadata": {},
   "source": [
    "# rule"
   ]
  },
  {
   "cell_type": "code",
   "execution_count": 7,
   "id": "0b9e3ccd-983a-4945-86ea-478756f6dd1b",
   "metadata": {},
   "outputs": [],
   "source": [
    "config = {\n",
    "    samples = {'A', 'B', 'C'}\n",
    "}"
   ]
  },
  {
   "cell_type": "code",
   "execution_count": 8,
   "id": "784c6136-41a4-4ef9-ac7e-3d6589b2ad97",
   "metadata": {},
   "outputs": [],
   "source": [
    "function expand(format_string, values)\n",
    "    return nil\n",
    "end"
   ]
  },
  {
   "cell_type": "code",
   "execution_count": 9,
   "id": "4378eabb-72ae-49c9-87d9-6f962f9ef11b",
   "metadata": {},
   "outputs": [],
   "source": [
    "workflow_definition = {}\n",
    "function workflow(t)\n",
    "    workflow_definition = t\n",
    "end"
   ]
  },
  {
   "cell_type": "code",
   "execution_count": 10,
   "id": "d697d62b-a79f-4a62-8d7a-11755d56301d",
   "metadata": {},
   "outputs": [],
   "source": [
    "rules = {}\n",
    "\n",
    "function rule(t)\n",
    "    assert(t.name ~= nil, \"ERROR: no name defined for rule\")\n",
    "    assert(rules[t.name] == nil, \"ERROR: rule '\" .. t.name .. \"' defined multiple times.\")\n",
    "    assert(t.input ~= nil, \"ERROR: rule '\" .. t.name .. \"' has no input defined.\")\n",
    "    assert(t.output ~= nil, \"ERROR: rule '\" .. t.name .. \"' has no ouput defined.\")\n",
    "    assert(t.shell ~= nil or t.script ~= nill, \"ERROR: rule '\" .. t.name .. \"' has neither script nor shell defined.\")\n",
    "\n",
    "    rules[t.name] = t\n",
    "end\n",
    "dofile(\"make.in\")\n"
   ]
  },
  {
   "cell_type": "code",
   "execution_count": 11,
   "id": "b0c81b89-ecf0-44fd-9aa5-c39845214adf",
   "metadata": {},
   "outputs": [
    {
     "name": "stdout",
     "output_type": "stream",
     "text": [
      "{ \n",
      "  [bwa map] = { \n",
      "    input = { \n",
      "      fastq = fastq/{sample}.fastq.gz \n",
      "    },\n",
      "    name = bwa map,\n",
      "    output = { bam/{sample}.bam },\n",
      "    shell = \t\ttouch {output[1]}\n",
      "\t \n",
      "  },\n",
      "  [joined variant calling] = { \n",
      "    input = {},\n",
      "    name = joined variant calling,\n",
      "    output = { all.vcf },\n",
      "    shell = \t\ttouch all.vcf\n",
      "\t \n",
      "  },\n",
      "  [samtools index] = { \n",
      "    input = { bam/{sample}.bam },\n",
      "    name = samtools index,\n",
      "    output = { bam/{sample}.bam.bai },\n",
      "    script = \t\tlocal f1, err1 = io.open(output[1], \"a\")\n",
      "\t \n",
      "  } \n",
      "} \n"
     ]
    }
   ],
   "source": [
    "rules"
   ]
  },
  {
   "cell_type": "code",
   "execution_count": 12,
   "id": "49f0f12f-fc3c-4063-afc9-78716d4d8bcf",
   "metadata": {},
   "outputs": [
    {
     "name": "stdout",
     "output_type": "stream",
     "text": [
      "{ \n",
      "  targets = { joined_calls.vcf.gz } \n",
      "} \n"
     ]
    }
   ],
   "source": [
    "workflow_definition"
   ]
  },
  {
   "cell_type": "markdown",
   "id": "b032cb5e-4680-44a9-98d9-e874d03f81d7",
   "metadata": {},
   "source": [
    "# expand"
   ]
  },
  {
   "cell_type": "code",
   "execution_count": 13,
   "id": "34561cad-3ee0-47a8-9e28-7da38d095cc9",
   "metadata": {},
   "outputs": [],
   "source": [
    "function expand(t)\n",
    "    format_string = t[1]\n",
    "    values = t[2]\n",
    "    print(\"Got format_string \", format_string)\n",
    "    print(\"Got values \", values)\n",
    "    local results = {}\n",
    "    for _, v in ipairs(values) do\n",
    "        local expanded_str = string.format(format_string, v)\n",
    "        table.insert(results, expanded_str)\n",
    "    end\n",
    "    return results\n",
    "end"
   ]
  },
  {
   "cell_type": "code",
   "execution_count": 16,
   "id": "79f56ad9-cdb7-4479-a4a6-927f714bace4",
   "metadata": {},
   "outputs": [
    {
     "name": "stdout",
     "output_type": "stream",
     "text": [
      "Got format_string  sorted_reads/%s.bam \n",
      "Got values  { A, B, C } \n",
      "{ sorted_reads/A.bam, sorted_reads/B.bam, sorted_reads/C.bam } \n"
     ]
    }
   ],
   "source": [
    "local SAMPLES = { \"A\", \"B\", \"C\" }\n",
    "print(expand({\"sorted_reads/%s.bam\", SAMPLES}))\n"
   ]
  },
  {
   "cell_type": "code",
   "execution_count": 19,
   "id": "e57b85f6-a49b-4fb1-bd46-6b518c0b0c11",
   "metadata": {},
   "outputs": [
    {
     "name": "stdout",
     "output_type": "stream",
     "text": [
      "Got format_string  sorted_reads/%d.bam \n",
      "Got values  { 1, 2, 3 } \n",
      "{ sorted_reads/1.bam, sorted_reads/2.bam, sorted_reads/3.bam } \n"
     ]
    }
   ],
   "source": [
    "local SAMPLES = { 1, 2, 3 }\n",
    "print(expand({\"sorted_reads/%d.bam\", SAMPLES}))"
   ]
  },
  {
   "cell_type": "code",
   "execution_count": 20,
   "id": "26b42b3c-99d6-4f31-a760-6f987f331b56",
   "metadata": {},
   "outputs": [
    {
     "name": "stdout",
     "output_type": "stream",
     "text": [
      "Got format_string  bam/%s.bam \n",
      "Got values  { A, B, C } \n",
      "Got format_string  bam/%s.bam.bai \n",
      "Got values  { A, B, C } \n"
     ]
    }
   ],
   "source": [
    "workflow_definition = {}\n",
    "rules = {}\n",
    "dofile(\"make.in\")"
   ]
  },
  {
   "cell_type": "markdown",
   "id": "58a9dfd4-78ee-43f6-b70e-7ca83135f121",
   "metadata": {},
   "source": [
    "# To continue\n",
    "\n",
    "- Fix expand above\n",
    "- Construct graph\n",
    "- etc"
   ]
  },
  {
   "cell_type": "code",
   "execution_count": null,
   "id": "4cbeab84-087d-4234-8c76-e704ff82a505",
   "metadata": {},
   "outputs": [],
   "source": []
  },
  {
   "cell_type": "code",
   "execution_count": null,
   "id": "c73c913e-9c7b-4339-91a1-0a1b6b24f2bb",
   "metadata": {},
   "outputs": [],
   "source": []
  }
 ],
 "metadata": {
  "kernelspec": {
   "display_name": "Lua  (XLua)",
   "language": "lua",
   "name": "xlua"
  },
  "language_info": {
   "file_extension": ".lua",
   "mimetype": "text/x-luasrc",
   "name": "lua",
   "version": "14.0.0"
  }
 },
 "nbformat": 4,
 "nbformat_minor": 5
}
