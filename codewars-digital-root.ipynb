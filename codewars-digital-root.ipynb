{
 "cells": [
  {
   "cell_type": "markdown",
   "id": "c1fe4abc-5032-4cac-acaa-ed6612061f93",
   "metadata": {},
   "source": [
    "Digital root is the recursive sum of all the digits in a number.\n",
    "\n",
    "Given n, take the sum of the digits of n. If that value has more than one digit, continue reducing in this way until a single-digit number is produced. The input will be a non-negative integer.\n",
    "\n",
    "\n",
    "```\n",
    "Examples\n",
    "    16  -->  1 + 6 = 7\n",
    "   942  -->  9 + 4 + 2 = 15  -->  1 + 5 = 6\n",
    "132189  -->  1 + 3 + 2 + 1 + 8 + 9 = 24  -->  2 + 4 = 6\n",
    "493193  -->  4 + 9 + 3 + 1 + 9 + 3 = 29  -->  2 + 9 = 11  -->  1 + 1 = 2\n",
    "```"
   ]
  },
  {
   "cell_type": "code",
   "execution_count": 21,
   "id": "ca6ccf9f-22ab-4868-9d51-e2a237c642e8",
   "metadata": {},
   "outputs": [],
   "source": [
    "function digital_root(n)\n",
    "    local num_as_str = tostring(n)\n",
    "    local sum = n -- for those with just one digit\n",
    "    while #num_as_str > 1 do\n",
    "        sum = 0\n",
    "        for i = 1, #num_as_str do\n",
    "            sum = sum + tonumber(num_as_str:sub(i, i))\n",
    "        end\n",
    "        num_as_str = tostring(sum)\n",
    "    end\n",
    "    return sum\n",
    "end"
   ]
  },
  {
   "cell_type": "code",
   "execution_count": 22,
   "id": "49a6e971-ea33-4976-83b5-4747e01a4f8c",
   "metadata": {},
   "outputs": [
    {
     "name": "stdout",
     "output_type": "stream",
     "text": [
      "true \n"
     ]
    }
   ],
   "source": [
    "assert(digital_root(16) == 7)\n"
   ]
  },
  {
   "cell_type": "code",
   "execution_count": 23,
   "id": "635f79dc-4ec4-4e3a-a084-d073794427d4",
   "metadata": {},
   "outputs": [
    {
     "name": "stdout",
     "output_type": "stream",
     "text": [
      "true \n"
     ]
    }
   ],
   "source": [
    "assert(digital_root(942) == 6)\n"
   ]
  },
  {
   "cell_type": "code",
   "execution_count": 24,
   "id": "6607ed1f-2ee2-4ba6-b8ad-87e86745de89",
   "metadata": {},
   "outputs": [
    {
     "name": "stdout",
     "output_type": "stream",
     "text": [
      "true \n"
     ]
    }
   ],
   "source": [
    "assert(digital_root(132189) == 6)\n"
   ]
  },
  {
   "cell_type": "code",
   "execution_count": 25,
   "id": "e9d2da3c-e40a-4494-9588-afae840f2b73",
   "metadata": {},
   "outputs": [
    {
     "name": "stdout",
     "output_type": "stream",
     "text": [
      "true \n"
     ]
    }
   ],
   "source": [
    "assert(digital_root(493193) == 2)"
   ]
  },
  {
   "cell_type": "code",
   "execution_count": 26,
   "id": "df7eefe1-6d84-4a3b-b606-1b344cb7df72",
   "metadata": {},
   "outputs": [
    {
     "name": "stdout",
     "output_type": "stream",
     "text": [
      "0 \n"
     ]
    }
   ],
   "source": [
    "digital_root(0)\n"
   ]
  },
  {
   "cell_type": "code",
   "execution_count": null,
   "id": "c4309c1a-b622-4df0-9356-2c94c8cea183",
   "metadata": {},
   "outputs": [],
   "source": []
  }
 ],
 "metadata": {
  "kernelspec": {
   "display_name": "Lua  (XLua)",
   "language": "lua",
   "name": "xlua"
  },
  "language_info": {
   "file_extension": ".lua",
   "mimetype": "text/x-luasrc",
   "name": "lua",
   "version": "14.0.0"
  }
 },
 "nbformat": 4,
 "nbformat_minor": 5
}
