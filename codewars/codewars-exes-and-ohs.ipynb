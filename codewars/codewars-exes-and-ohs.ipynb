{
 "cells": [
  {
   "cell_type": "markdown",
   "id": "27655534-cd93-454d-8e53-092748ff0868",
   "metadata": {},
   "source": [
    "Check to see if a string has the same amount of 'x's and 'o's. The method must return a boolean and be case insensitive. The string can contain any char.\n",
    "\n",
    "Examples input/output:\n",
    "```\n",
    "XO(\"ooxx\") => true\n",
    "XO(\"xooxx\") => false\n",
    "XO(\"ooxXm\") => true\n",
    "XO(\"zpzpzpp\") => true // when no 'x' and 'o' is present should return true\n",
    "XO(\"zzoo\") => false\n",
    "```"
   ]
  },
  {
   "cell_type": "code",
   "execution_count": 13,
   "id": "b990ade9-823c-4f79-b582-62ff009cb1ec",
   "metadata": {},
   "outputs": [
    {
     "name": "stdout",
     "output_type": "stream",
     "text": [
      "true \n",
      "true \n",
      "false \n",
      "false \n",
      "true \n"
     ]
    }
   ],
   "source": [
    "local function xo(s)\n",
    "    return string.len(string.gsub(s, \"[^oO]\", \"\")) == string.len(string.gsub(s, \"[^xX]\", \"\"))\n",
    "end\n",
    "print(xo(\"ooxx\"))\n",
    "print(xo(\"\"))\n",
    "print(xo(\"oox\"))\n",
    "print(xo(\"ooxa\"))\n",
    "print(xo(\"ooxX\"))"
   ]
  },
  {
   "cell_type": "code",
   "execution_count": 15,
   "id": "403576e6-c4a0-44c9-8f2f-805517c229f9",
   "metadata": {},
   "outputs": [
    {
     "name": "stdout",
     "output_type": "stream",
     "text": [
      "true \n",
      "true \n",
      "false \n",
      "false \n",
      "true \n"
     ]
    }
   ],
   "source": [
    "local function xo(s)\n",
    "    return s:gsub(\"[^oO]\", \"\"):len() == s:gsub(\"[^xX]\", \"\"):len()\n",
    "end\n",
    "print(xo(\"ooxx\"))\n",
    "print(xo(\"\"))\n",
    "print(xo(\"oox\"))\n",
    "print(xo(\"ooxa\"))\n",
    "print(xo(\"ooxX\"))"
   ]
  },
  {
   "cell_type": "code",
   "execution_count": null,
   "id": "b8063ad6-f77c-44c2-a33d-396a19249c76",
   "metadata": {},
   "outputs": [],
   "source": []
  }
 ],
 "metadata": {
  "kernelspec": {
   "display_name": "Lua  (XLua)",
   "language": "lua",
   "name": "xlua"
  },
  "language_info": {
   "file_extension": ".lua",
   "mimetype": "text/x-luasrc",
   "name": "lua",
   "version": "14.0.0"
  }
 },
 "nbformat": 4,
 "nbformat_minor": 5
}
