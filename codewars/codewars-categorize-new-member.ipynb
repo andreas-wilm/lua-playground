{
 "cells": [
  {
   "cell_type": "markdown",
   "id": "af65ab10-548e-4ea1-844b-a611710ad120",
   "metadata": {},
   "source": [
    "The Western Suburbs Croquet Club has two categories of membership, Senior and Open. They would like your help with an application form that will tell prospective members which category they will be placed.\n",
    "\n",
    "To be a senior, a member must be at least 55 years old and have a handicap greater than 7. In this croquet club, handicaps range from -2 to +26; the better the player the lower the handicap.\n",
    "\n",
    "Input will consist of a list of pairs. Each pair contains information for a single potential member. Information consists of an integer for the person's age and an integer for the person's handicap.\n",
    "\n",
    "Output will consist of a list of string values (in Haskell and C: Open or Senior) stating whether the respective member is to be placed in the senior or open category."
   ]
  },
  {
   "cell_type": "code",
   "execution_count": 19,
   "id": "5b4e2324-934d-49f4-8685-92ce19a869e7",
   "metadata": {},
   "outputs": [
    {
     "name": "stdout",
     "output_type": "stream",
     "text": [
      "{ open, senior, open, senior } \n"
     ]
    }
   ],
   "source": [
    "local function open_or_senior(data)\n",
    "    ret = {}\n",
    "    for _, person in pairs(data) do\n",
    "        age, handicap = table.unpack(person)\n",
    "        if age>=55 and handicap>7 then\n",
    "            table.insert(ret, \"senior\")\n",
    "        else\n",
    "            table.insert(ret, \"open\")\n",
    "        end\n",
    "    end\n",
    "    return ret\n",
    "end\n",
    "\n",
    "print(open_or_senior{ { 45, 12 }, { 55, 21 }, { 19, -2 }, { 104, 20 } })"
   ]
  },
  {
   "cell_type": "code",
   "execution_count": null,
   "id": "c3581868-e351-4304-9359-8bc19d96f491",
   "metadata": {},
   "outputs": [],
   "source": []
  }
 ],
 "metadata": {
  "kernelspec": {
   "display_name": "Lua  (XLua)",
   "language": "lua",
   "name": "xlua"
  },
  "language_info": {
   "file_extension": ".lua",
   "mimetype": "text/x-luasrc",
   "name": "lua",
   "version": "14.0.0"
  }
 },
 "nbformat": 4,
 "nbformat_minor": 5
}
