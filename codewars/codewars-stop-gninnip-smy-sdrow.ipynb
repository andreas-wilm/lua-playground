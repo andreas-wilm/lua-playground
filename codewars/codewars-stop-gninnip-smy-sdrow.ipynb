{
 "cells": [
  {
   "cell_type": "markdown",
   "id": "185733be-0cc2-4ae0-a7db-89fa9afbf5a7",
   "metadata": {},
   "source": [
    "Write a function that takes in a string of one or more words, and returns the same string, but with all words that have five or more letters reversed (Just like the name of this Kata). Strings passed in will consist of only letters and spaces. Spaces will be included only when more than one word is present.\n",
    "\n",
    "```    \n",
    "\"Hey fellow warriors\"  --> \"Hey wollef sroirraw\" \n",
    "\"This is a test        --> \"This is a test\" \n",
    "\"This is another test\" --> \"This is rehtona test\"\n",
    "```"
   ]
  },
  {
   "cell_type": "code",
   "execution_count": 1,
   "id": "3bace732-6a14-4dc6-83b8-5a2897901e86",
   "metadata": {},
   "outputs": [
    {
     "name": "stdout",
     "output_type": "stream",
     "text": [
      "Hey 3 \n",
      "fellow 6 \n",
      "warriors 8 \n"
     ]
    }
   ],
   "source": [
    "local text = \"Hey fellow warriors\"\n",
    "for word in text:gmatch(\"%w+\") do\n",
    "  print(word, string.len(word))\n",
    "end"
   ]
  },
  {
   "cell_type": "code",
   "execution_count": 2,
   "id": "4b54f35b-f1eb-4a81-a1ef-e5429293797b",
   "metadata": {},
   "outputs": [],
   "source": [
    "function solution(text)\n",
    "    local ret = \"\"\n",
    "    for word in text:gmatch(\"%w+\") do\n",
    "        if string.len(word) >= 5 then\n",
    "            word = string.reverse(word)\n",
    "        end\n",
    "        ret = ret .. word .. \" \"\n",
    "    end\n",
    "    ret = string.sub(ret, 1, string.len(ret)-1)\n",
    "    return ret\n",
    "end"
   ]
  },
  {
   "cell_type": "code",
   "execution_count": 3,
   "id": "8a01e2dd-2a5d-44cd-a335-c4fd51ba3235",
   "metadata": {},
   "outputs": [],
   "source": [
    "assert(solution(\"Hey fellow warriors\") == \"Hey wollef sroirraw\" )\n",
    "assert(solution(\"This is a test\") == \"This is a test\" )\n",
    "assert(solution(\"This is another test\") == \"This is rehtona test\")\n"
   ]
  },
  {
   "cell_type": "markdown",
   "id": "3e609b15-9ba9-47be-ae81-ebcfff1b0857",
   "metadata": {},
   "source": [
    "The above uses mixed style so let's try again. First without OO"
   ]
  },
  {
   "cell_type": "code",
   "execution_count": 5,
   "id": "ade0eb8d-7a75-414d-8766-e7dbe7ac1cf0",
   "metadata": {},
   "outputs": [],
   "source": [
    "function solution(text)\n",
    "    local ret = \"\"\n",
    "    for word in string.gmatch(text, \"%w+\") do\n",
    "        if string.len(word) >= 5 then\n",
    "            word = string.reverse(word)\n",
    "        end\n",
    "        ret = ret .. word .. \" \"\n",
    "    end\n",
    "    ret = string.sub(ret, 1, string.len(ret)-1)\n",
    "    return ret\n",
    "end"
   ]
  },
  {
   "cell_type": "code",
   "execution_count": 6,
   "id": "df2db7fd-260d-495e-8fbb-5f64d83090b7",
   "metadata": {},
   "outputs": [],
   "source": [
    "assert(solution(\"Hey fellow warriors\") == \"Hey wollef sroirraw\" )\n",
    "assert(solution(\"This is a test\") == \"This is a test\" )\n",
    "assert(solution(\"This is another test\") == \"This is rehtona test\")"
   ]
  },
  {
   "cell_type": "code",
   "execution_count": 7,
   "id": "fc99359e-a562-4ba8-9bd1-dbea5ccd104b",
   "metadata": {},
   "outputs": [],
   "source": [
    "-- OO style\n",
    "function solution(text)\n",
    "    local ret = \"\"\n",
    "    for word in text:gmatch(\"%w+\") do\n",
    "        if word:len() >= 5 then\n",
    "            word = word:reverse()\n",
    "        end\n",
    "        ret = ret .. word .. \" \"\n",
    "    end\n",
    "    ret = ret:sub(1, string.len(ret)-1)\n",
    "    return ret\n",
    "end"
   ]
  },
  {
   "cell_type": "code",
   "execution_count": 8,
   "id": "16087a76-9b5e-4934-b316-bed25966ce4e",
   "metadata": {},
   "outputs": [],
   "source": [
    "assert(solution(\"Hey fellow warriors\") == \"Hey wollef sroirraw\" )\n",
    "assert(solution(\"This is a test\") == \"This is a test\" )\n",
    "assert(solution(\"This is another test\") == \"This is rehtona test\")"
   ]
  }
 ],
 "metadata": {
  "kernelspec": {
   "display_name": "Lua  (XLua)",
   "language": "lua",
   "name": "xlua"
  },
  "language_info": {
   "file_extension": ".lua",
   "mimetype": "text/x-luasrc",
   "name": "lua",
   "version": "14.0.0"
  }
 },
 "nbformat": 4,
 "nbformat_minor": 5
}
