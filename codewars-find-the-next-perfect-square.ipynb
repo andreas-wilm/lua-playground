{
 "cells": [
  {
   "cell_type": "markdown",
   "id": "19ad6eba-28bf-4659-9375-e330df96a25e",
   "metadata": {},
   "source": [
    "You might know some pretty large perfect squares. But what about the NEXT one?\n",
    "\n",
    "Complete the findNextSquare method that finds the next integral perfect square after the one passed as a parameter. Recall that an integral perfect square is an integer n such that sqrt(n) is also an integer.\n",
    "\n",
    "If the argument is itself not a perfect square then return either -1 or an empty value like None or null, depending on your language. You may assume the argument is non-negative.\n",
    "\n",
    "```\n",
    "121 --> 144\n",
    "625 --> 676\n",
    "114 --> -1  #  because 114 is not a perfect square\n",
    "```\n",
    "\n",
    "        "
   ]
  },
  {
   "cell_type": "code",
   "execution_count": null,
   "id": "3abc846b-2e79-4f32-9d5b-8ac4542ab220",
   "metadata": {},
   "outputs": [],
   "source": []
  },
  {
   "cell_type": "code",
   "execution_count": 1,
   "id": "3dc1bea1-edd4-4be3-a0cb-96b8a3632870",
   "metadata": {},
   "outputs": [
    {
     "name": "stdout",
     "output_type": "stream",
     "text": [
      "11.0 float \n"
     ]
    }
   ],
   "source": [
    "local n = 121\n",
    "print(math.sqrt(n), math.type(math.sqrt(n)))"
   ]
  },
  {
   "cell_type": "code",
   "execution_count": 2,
   "id": "9dbafb5f-f25d-4f60-abeb-b292783f656c",
   "metadata": {},
   "outputs": [
    {
     "name": "stdout",
     "output_type": "stream",
     "text": [
      "11 11 \n"
     ]
    }
   ],
   "source": [
    "local n = 121\n",
    "print(math.modf(math.sqrt(n)), math.floor(math.sqrt(n)))"
   ]
  },
  {
   "cell_type": "code",
   "execution_count": 3,
   "id": "3429f22c-ec60-4da1-8ffa-58751ee05aab",
   "metadata": {},
   "outputs": [
    {
     "name": "stdout",
     "output_type": "stream",
     "text": [
      "10.677078252031 float \n"
     ]
    }
   ],
   "source": [
    "local n = 114\n",
    "print(math.sqrt(n), math.type(math.sqrt(n)))"
   ]
  },
  {
   "cell_type": "code",
   "execution_count": 4,
   "id": "b2388e44-9776-474c-aede-6ef68a4aa34c",
   "metadata": {},
   "outputs": [
    {
     "name": "stdout",
     "output_type": "stream",
     "text": [
      "10 10 \n"
     ]
    }
   ],
   "source": [
    "local n = 114\n",
    "print(math.modf(math.sqrt(n)), math.floor(math.sqrt(n)))"
   ]
  },
  {
   "cell_type": "code",
   "execution_count": 2,
   "id": "6cabddf9-3938-48b5-bee8-0d0456d4ff15",
   "metadata": {},
   "outputs": [],
   "source": [
    "-- naive solution\n",
    "function solution(sq)\n",
    "    local function is_perfect(n)\n",
    "        local s = math.sqrt(n)\n",
    "        return s == math.floor(s)\n",
    "    end\n",
    "    if not is_perfect(sq) then\n",
    "        return -1\n",
    "    end\n",
    "    repeat\n",
    "        sq = sq + 1\n",
    "    until is_perfect(sq)\n",
    "    return sq\n",
    "end\n"
   ]
  },
  {
   "cell_type": "code",
   "execution_count": 6,
   "id": "47e0acf2-5bf4-49c2-9893-e04d89b9130a",
   "metadata": {},
   "outputs": [],
   "source": [
    "assert(solution(121) == 144)\n",
    "assert(solution(625) == 676)\n",
    "assert(solution(114) == -1)"
   ]
  },
  {
   "cell_type": "code",
   "execution_count": null,
   "id": "059fe73f-e1a1-4a17-a441-104a4c41580a",
   "metadata": {},
   "outputs": [],
   "source": []
  }
 ],
 "metadata": {
  "kernelspec": {
   "display_name": "Lua  (XLua)",
   "language": "lua",
   "name": "xlua"
  },
  "language_info": {
   "file_extension": ".lua",
   "mimetype": "text/x-luasrc",
   "name": "lua",
   "version": "14.0.0"
  }
 },
 "nbformat": 4,
 "nbformat_minor": 5
}
