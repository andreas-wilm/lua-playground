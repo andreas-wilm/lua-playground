{
 "cells": [
  {
   "cell_type": "markdown",
   "id": "ef5a63b2-ef2b-4590-a810-75b0a2208d56",
   "metadata": {},
   "source": [
    "A pangram is a sentence that contains every single letter of the alphabet at least once. For example, the sentence \"The quick brown fox jumps over the lazy dog\" is a pangram, because it uses the letters A-Z at least once (case is irrelevant).\n",
    "\n",
    "Given a string, detect whether or not it is a pangram. Return True if it is, False if not. Ignore numbers and punctuation.\n"
   ]
  },
  {
   "cell_type": "code",
   "execution_count": 5,
   "id": "f6b349f7-4524-4d87-bf61-99ff21b4521a",
   "metadata": {},
   "outputs": [],
   "source": [
    "local text = \"The quick brown fox jumps over the lazy dog\" \n",
    "local text = \"1bcdefghijklmnopqrstuvwxyz\""
   ]
  },
  {
   "cell_type": "code",
   "execution_count": 57,
   "id": "2c51a0d5-6a12-441b-b26c-1daf4af70e34",
   "metadata": {},
   "outputs": [],
   "source": [
    "function is_pangram(s)\n",
    "    local alphabet = \"abcdefghijklmnopqrstuvwxyz\"\n",
    "    local obs = {}\n",
    "    for c in s:lower():gmatch(\"%a\") do\n",
    "        obs[c] = true\n",
    "    end\n",
    "    local n = 0\n",
    "    for _, _ in pairs(obs) do\n",
    "        n = n+1\n",
    "    end\n",
    "    print(n, #alphabet)\n",
    "    if n == #alphabet then\n",
    "        return true\n",
    "    else\n",
    "        return false\n",
    "    end\n",
    "end\n"
   ]
  },
  {
   "cell_type": "code",
   "execution_count": 58,
   "id": "38e0677c-aed8-418c-a387-abf086dee6cc",
   "metadata": {},
   "outputs": [
    {
     "name": "stdout",
     "output_type": "stream",
     "text": [
      "26 26 \n",
      "true \n"
     ]
    }
   ],
   "source": [
    "is_pangram(\"The quick brown fox jumps over the lazy dog\")"
   ]
  },
  {
   "cell_type": "code",
   "execution_count": 59,
   "id": "927ffe54-eb24-4dce-8aaf-4f169b75c45e",
   "metadata": {},
   "outputs": [
    {
     "name": "stdout",
     "output_type": "stream",
     "text": [
      "25 26 \n",
      "false \n"
     ]
    }
   ],
   "source": [
    "is_pangram(\"1bcdefghijklmnopqrstuvwxyz\")"
   ]
  },
  {
   "cell_type": "code",
   "execution_count": null,
   "id": "59720cb2-096f-41a8-bfb9-940602a9d052",
   "metadata": {},
   "outputs": [],
   "source": []
  }
 ],
 "metadata": {
  "kernelspec": {
   "display_name": "Lua  (XLua)",
   "language": "lua",
   "name": "xlua"
  },
  "language_info": {
   "file_extension": ".lua",
   "mimetype": "text/x-luasrc",
   "name": "lua",
   "version": "14.0.0"
  }
 },
 "nbformat": 4,
 "nbformat_minor": 5
}
