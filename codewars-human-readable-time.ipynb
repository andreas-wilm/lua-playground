{
 "cells": [
  {
   "cell_type": "markdown",
   "id": "49bd8ff3-4288-447e-ae2f-94095c73035b",
   "metadata": {},
   "source": [
    "Write a function, which takes a non-negative integer (seconds) as input and returns the time in a human-readable format (HH:MM:SS)\n",
    "\n",
    "HH = hours, padded to 2 digits, range: 00 - 99\n",
    "\n",
    "MM = minutes, padded to 2 digits, range: 00 - 59\n",
    "\n",
    "SS = seconds, padded to 2 digits, range: 00 - 59\n",
    "\n",
    "The maximum time never exceeds 359999 (99:59:59)\n",
    "\n"
   ]
  },
  {
   "cell_type": "code",
   "execution_count": 37,
   "id": "9fd839d3-7f7f-4ad1-a9a0-da5417d62dd4",
   "metadata": {},
   "outputs": [],
   "source": [
    "function make_readable(seconds)\n",
    "    h = math.floor(seconds / 60 / 60)\n",
    "    r = seconds - (h*60*60)\n",
    "    m = math.floor(r / 60)\n",
    "    s = r - (m*60)\n",
    "    return string.format(\"%02d:%02d:%02d\", h, m, s)\n",
    "end\n"
   ]
  },
  {
   "cell_type": "code",
   "execution_count": 38,
   "id": "ab05acc9-6eb8-473d-8735-ce699ae6ffbd",
   "metadata": {},
   "outputs": [
    {
     "name": "stdout",
     "output_type": "stream",
     "text": [
      "23:59:50 \n"
     ]
    }
   ],
   "source": [
    "make_readable(86390)"
   ]
  },
  {
   "cell_type": "code",
   "execution_count": 40,
   "id": "ecc615cf-ec09-4082-b9d6-b6d328548c7c",
   "metadata": {},
   "outputs": [],
   "source": [
    "assert(\"00:00:00\" == make_readable(0))\n",
    "assert(\"00:00:05\" == make_readable(5))\n",
    "assert(\"00:01:00\" == make_readable(60))\n",
    "assert(\"23:59:59\" == make_readable(86399))\n",
    "assert(\"99:59:59\" == make_readable(359999))"
   ]
  },
  {
   "cell_type": "markdown",
   "id": "32cde0d4-5f6d-4284-8f75-c45e9d4b9ade",
   "metadata": {},
   "source": [
    "NOTE: Lua has // (as Python) for floor division"
   ]
  },
  {
   "cell_type": "code",
   "execution_count": null,
   "id": "9304dc05-bbe1-4c2c-a116-3aa74c6d8c2c",
   "metadata": {},
   "outputs": [],
   "source": []
  }
 ],
 "metadata": {
  "kernelspec": {
   "display_name": "Lua  (XLua)",
   "language": "lua",
   "name": "xlua"
  },
  "language_info": {
   "file_extension": ".lua",
   "mimetype": "text/x-luasrc",
   "name": "lua",
   "version": "14.0.0"
  }
 },
 "nbformat": 4,
 "nbformat_minor": 5
}
